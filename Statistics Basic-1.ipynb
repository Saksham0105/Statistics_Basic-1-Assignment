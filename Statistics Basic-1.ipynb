{
 "cells": [
  {
   "cell_type": "markdown",
   "id": "8cabb03f-b9d2-4808-88fc-6ffc8df7db0c",
   "metadata": {},
   "source": [
    "## Q1. What is Statistics ?"
   ]
  },
  {
   "cell_type": "markdown",
   "id": "d74c4374-0d7e-4d64-b4b6-8d34c62c68f4",
   "metadata": {},
   "source": [
    "Ans :- "
   ]
  },
  {
   "cell_type": "markdown",
   "id": "67a2de2a-9c21-4031-8ee4-9ae198c14a77",
   "metadata": {},
   "source": [
    "**Statistics is a branch of mathematics that involves collecting, analyzing, interpreting, presenting, and organizing data. It deals with the study of the collection, organization, analysis, interpretation, and presentation of data.**"
   ]
  },
  {
   "cell_type": "markdown",
   "id": "573e9537-f34c-47d7-88c4-fe2314e88e32",
   "metadata": {},
   "source": [
    "## Q2.Define the different types of statistics and give an example of when each type might be used."
   ]
  },
  {
   "cell_type": "markdown",
   "id": "96f5cbf7-0206-46d9-b101-aada08452405",
   "metadata": {},
   "source": [
    "Ans :- "
   ]
  },
  {
   "cell_type": "markdown",
   "id": "5173a4a7-9399-4aa7-8b77-d1cc9e8dde74",
   "metadata": {},
   "source": [
    "* **Descriptive Statistics**: "
   ]
  },
  {
   "cell_type": "markdown",
   "id": "04871cbf-1341-4a03-9f2d-e26d0d2a7380",
   "metadata": {},
   "source": [
    "Descriptive statistics are used to describe and summarize the features of a dataset. For example, calculating the mean, median, and mode of exam scores."
   ]
  },
  {
   "cell_type": "markdown",
   "id": "28932c67-53b9-49c2-8e68-c185eded295d",
   "metadata": {},
   "source": [
    "* **Inferential Statistics** : "
   ]
  },
  {
   "cell_type": "markdown",
   "id": "2facd946-3f27-4c10-9e56-786309f9fbc4",
   "metadata": {},
   "source": [
    "Inferential statistics involve making inferences or predictions about a population based on a sample of data. For example, using the exam scores of a sample of students to make inferences about the performance of the entire student population."
   ]
  },
  {
   "cell_type": "markdown",
   "id": "fbab4c21-e2bc-4510-84a7-d6589e391cc6",
   "metadata": {},
   "source": [
    "## Q3. What are the different types of data and how do they differ from each other? Provide an example of each type of data."
   ]
  },
  {
   "cell_type": "markdown",
   "id": "9214bf76-2252-4999-8730-6bb8ec37ca6a",
   "metadata": {},
   "source": [
    "Ans :- "
   ]
  },
  {
   "cell_type": "markdown",
   "id": "f0cff1ae-72e8-42e6-a1e6-f2d34fa2bee0",
   "metadata": {},
   "source": [
    "* **Qualitative Data** : \n",
    "   "
   ]
  },
  {
   "cell_type": "markdown",
   "id": "3464c5d8-575a-483e-ad18-ee9acf557adc",
   "metadata": {},
   "source": [
    "Qualitative data describes qualities or characteristics and is typically non-numeric. "
   ]
  },
  {
   "cell_type": "markdown",
   "id": "7de40a85-6b2a-4e9d-8d4d-fdafe0037a59",
   "metadata": {},
   "source": [
    "For example, the color of a car, opinions on a political issue."
   ]
  },
  {
   "cell_type": "markdown",
   "id": "5fe10351-928b-4d29-b04f-60ff711daa7b",
   "metadata": {},
   "source": [
    "- **Quantitative Data** : "
   ]
  },
  {
   "cell_type": "markdown",
   "id": "f73302ef-abb0-4f9f-8f4a-4039ecee373f",
   "metadata": {},
   "source": [
    "Quantitative data consists of numerical values that represent quantities. "
   ]
  },
  {
   "cell_type": "markdown",
   "id": "2ac807e5-6267-426b-934d-79e0eca910ae",
   "metadata": {},
   "source": [
    "For example, the number of cars sold in a month, the height of students in a class."
   ]
  },
  {
   "cell_type": "markdown",
   "id": "d81a6bcb-d143-4ab9-b643-d1834c4d485a",
   "metadata": {},
   "source": [
    "## Q4.Categorize the following datasets with respect to quantitative and qualitative data types:"
   ]
  },
  {
   "cell_type": "markdown",
   "id": "6f70edee-1c83-4f99-8497-167c2619690e",
   "metadata": {},
   "source": [
    "* (i) Grading in exam: A+, A, B+, B, C+, C, D, E: - **Qualitative**"
   ]
  },
  {
   "cell_type": "markdown",
   "id": "8ee712fc-b1e3-4449-a2de-41f5b7543f86",
   "metadata": {},
   "source": [
    "* (ii) Colour of mangoes: yellow, green, orange, red - **Qualitative**"
   ]
  },
  {
   "cell_type": "markdown",
   "id": "76625185-6837-4b5d-91fe-d6b55eaa2a0f",
   "metadata": {},
   "source": [
    "* (iii) Height data of a class: [178.9, 179, 179.5, 176, 177.2, 178.3, 175.8,...] -  **Quantitative**"
   ]
  },
  {
   "cell_type": "markdown",
   "id": "cbb8428a-b545-4b65-a74e-fcfb79c26280",
   "metadata": {},
   "source": [
    "* (iv) Number of mangoes exported by a farm: [500, 600, 478, 672, ...] -  **Quantitative**"
   ]
  },
  {
   "cell_type": "markdown",
   "id": "9cc18525-4e4c-4f98-b3db-0bab5aa83459",
   "metadata": {},
   "source": [
    "## Q5. Explain the concept of levels of measurement and give an example of a variable for each level."
   ]
  },
  {
   "cell_type": "markdown",
   "id": "c4e795c1-a7b0-434e-9899-7ebb00df02e9",
   "metadata": {},
   "source": [
    "Ans : -"
   ]
  },
  {
   "cell_type": "markdown",
   "id": "87b75b5f-aba5-4556-905a-cf07ab52b384",
   "metadata": {},
   "source": [
    " - **Nominal Level** : "
   ]
  },
  {
   "cell_type": "markdown",
   "id": "759ab334-d8d5-4e77-a3ed-cf4b2de4d858",
   "metadata": {},
   "source": [
    "Nominal level variables are categorical and do not have an inherent order. Example: Eye color (blue, brown, green)."
   ]
  },
  {
   "cell_type": "markdown",
   "id": "1afee266-74e7-4722-b784-d66cff0a581d",
   "metadata": {},
   "source": [
    "- **Ordinal Level** : "
   ]
  },
  {
   "cell_type": "markdown",
   "id": "fc1745a4-29d0-4984-8359-c43ddb20baba",
   "metadata": {},
   "source": [
    "Ordinal level variables have categories with a natural order but the differences between categories are not uniform. Example: Education level (high school, college, graduate)."
   ]
  },
  {
   "cell_type": "markdown",
   "id": "115df05e-c3a4-4997-a2d5-b8012c8766c8",
   "metadata": {},
   "source": [
    "## Q6. Why is it important to understand the level of measurement when analyzing data? Provide an example to illustrate your answer."
   ]
  },
  {
   "cell_type": "markdown",
   "id": "f9dbd8fc-232e-4e62-accc-791d039b3ef7",
   "metadata": {},
   "source": [
    "Ans : -"
   ]
  },
  {
   "cell_type": "markdown",
   "id": "4e55322f-210d-4a71-a99c-205899d3a24f",
   "metadata": {},
   "source": [
    "Understanding the level of measurement is crucial because it determines the type of statistical analysis that can be performed on the data. For instance, you can't calculate a meaningful average for nominal data."
   ]
  },
  {
   "cell_type": "markdown",
   "id": "02407e32-55a2-4e65-bc20-4dc7365212e1",
   "metadata": {},
   "source": [
    "## Q7.How nominal data type is different from ordinal data type."
   ]
  },
  {
   "cell_type": "markdown",
   "id": "7eb5a274-0d85-418f-83e9-f6d43feefe6e",
   "metadata": {},
   "source": [
    "Ans :- "
   ]
  },
  {
   "cell_type": "markdown",
   "id": "a306789c-e543-4bcf-9af8-c970d6c5c030",
   "metadata": {},
   "source": [
    "- **Nominal** :  "
   ]
  },
  {
   "cell_type": "markdown",
   "id": "b3c749b6-10fc-4059-a950-016988bcfc4e",
   "metadata": {},
   "source": [
    "Nominal data represents categories with no inherent order or ranking. "
   ]
  },
  {
   "cell_type": "markdown",
   "id": "a59af955-f6b7-4a3a-81c5-a4a3e1e7af2f",
   "metadata": {},
   "source": [
    "**Example**: Types of fruits."
   ]
  },
  {
   "cell_type": "markdown",
   "id": "9a137c9d-e0ae-4883-b15d-42b73f76d861",
   "metadata": {},
   "source": [
    "- **Ordinal**: "
   ]
  },
  {
   "cell_type": "markdown",
   "id": "bac8de1e-23f4-4f59-b872-80b45eb2f212",
   "metadata": {},
   "source": [
    "Ordinal data represents categories with a natural order or ranking but the differences between categories may not be uniform. "
   ]
  },
  {
   "cell_type": "markdown",
   "id": "1f16fd7d-b406-493c-8ecf-1a4339308a5a",
   "metadata": {},
   "source": [
    "**Example:** Educational levels."
   ]
  },
  {
   "cell_type": "markdown",
   "id": "618dac0d-4d2a-40b4-b239-ad547fe635c2",
   "metadata": {},
   "source": [
    "## Q8. Which type of plot can be used to display data in terms of range ?"
   ]
  },
  {
   "cell_type": "markdown",
   "id": "aa675e03-4da2-4234-af64-4621f5eaec2b",
   "metadata": {},
   "source": [
    "Ans : - "
   ]
  },
  {
   "cell_type": "markdown",
   "id": "83868994-cac0-43dc-aa9a-363b942abf14",
   "metadata": {},
   "source": [
    " A box plot or box-and-whisker plot is commonly used to display the range of data."
   ]
  },
  {
   "cell_type": "markdown",
   "id": "e087701e-530b-4adb-b43f-9b8b6d34c8b4",
   "metadata": {},
   "source": [
    "## Q9.Describe the difference between descriptive and inferential statistics. Give an example of each type of statistics and explain how they are used."
   ]
  },
  {
   "cell_type": "markdown",
   "id": "b65e008b-4d2c-4e4a-85df-9b970522ec00",
   "metadata": {},
   "source": [
    "Ans: -"
   ]
  },
  {
   "cell_type": "markdown",
   "id": "e90d0532-0610-4e4b-82c0-996bdc3e872d",
   "metadata": {},
   "source": [
    " - **Descriptive Statistics**: "
   ]
  },
  {
   "cell_type": "markdown",
   "id": "eb2f06c6-9f9f-4227-ad72-68a5c0c0ce0b",
   "metadata": {},
   "source": [
    "Descriptive statistics describe features of a dataset using measures such as mean, median, mode, and standard deviation."
   ]
  },
  {
   "cell_type": "markdown",
   "id": "cffe623a-91f0-435b-b2e7-83ddd177edef",
   "metadata": {},
   "source": [
    "**Example:** Calculating the average height of students in a class."
   ]
  },
  {
   "cell_type": "markdown",
   "id": "e1d86e55-d4cb-4d86-a4d4-fde76ccb1eaa",
   "metadata": {},
   "source": [
    "   - **Inferential Statistics**: "
   ]
  },
  {
   "cell_type": "markdown",
   "id": "11aa53fb-13ba-4d92-b7d9-2b120645022d",
   "metadata": {},
   "source": [
    "Inferential statistics are used to make inferences or predictions about a population based on a sample of data."
   ]
  },
  {
   "cell_type": "markdown",
   "id": "f4d024e1-720d-479c-96ed-6d31c2e0d02e",
   "metadata": {},
   "source": [
    "**Example:** Using the mean scores of a sample of students to estimate the mean score of the entire student population."
   ]
  },
  {
   "cell_type": "markdown",
   "id": "c33b65d2-83a0-4535-9588-05c5c8f4b3a7",
   "metadata": {},
   "source": [
    "## Q10.What are some common measures of central tendency and variability used in statistics? Explain how each measure can be used to describe a dataset."
   ]
  },
  {
   "cell_type": "markdown",
   "id": "fc0d9d90-cbdb-409a-b392-85a16e5bee2a",
   "metadata": {},
   "source": [
    "Ans : -"
   ]
  },
  {
   "cell_type": "markdown",
   "id": "1b026654-735b-4dcf-ba5d-e447a5611ffc",
   "metadata": {},
   "source": [
    "- **Measures of Central Tendency**: "
   ]
  },
  {
   "cell_type": "markdown",
   "id": "b87bad11-fb07-49b8-be70-75ebd57c09ab",
   "metadata": {},
   "source": [
    "Mean, Median, Mode. These measures provide a single value that represents the center of the data distribution."
   ]
  },
  {
   "cell_type": "markdown",
   "id": "115ef917-3f49-40de-96ce-cedff7c38544",
   "metadata": {},
   "source": [
    " - **Measures of Variability**: "
   ]
  },
  {
   "cell_type": "markdown",
   "id": "90f1d2a4-4e13-42ce-a2f5-49e04780d5a8",
   "metadata": {},
   "source": [
    "Range, Variance, Standard Deviation. These measures indicate the spread or dispersion of the data around the central tendency. For example, a high standard deviation indicates that the data points are spread out widely from the mean, while a low standard deviation indicates that the data points are close to the mean."
   ]
  }
 ],
 "metadata": {
  "kernelspec": {
   "display_name": "Python 3 (ipykernel)",
   "language": "python",
   "name": "python3"
  },
  "language_info": {
   "codemirror_mode": {
    "name": "ipython",
    "version": 3
   },
   "file_extension": ".py",
   "mimetype": "text/x-python",
   "name": "python",
   "nbconvert_exporter": "python",
   "pygments_lexer": "ipython3",
   "version": "3.10.8"
  }
 },
 "nbformat": 4,
 "nbformat_minor": 5
}
